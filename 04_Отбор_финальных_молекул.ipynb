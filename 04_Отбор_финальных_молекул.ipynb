{
 "cells": [
  {
   "cell_type": "code",
   "execution_count": 1,
   "id": "410597a3",
   "metadata": {},
   "outputs": [
    {
     "name": "stderr",
     "output_type": "stream",
     "text": [
      "<frozen importlib._bootstrap>:241: RuntimeWarning: to-Python converter for boost::shared_ptr<RDKit::FilterHierarchyMatcher> already registered; second conversion method ignored.\n",
      "/home/elizaveta/.local/lib/python3.10/site-packages/tqdm/auto.py:21: TqdmWarning: IProgress not found. Please update jupyter and ipywidgets. See https://ipywidgets.readthedocs.io/en/stable/user_install.html\n",
      "  from .autonotebook import tqdm as notebook_tqdm\n",
      "2025-07-16 01:48:33.771882: E external/local_xla/xla/stream_executor/cuda/cuda_fft.cc:467] Unable to register cuFFT factory: Attempting to register factory for plugin cuFFT when one has already been registered\n",
      "WARNING: All log messages before absl::InitializeLog() is called are written to STDERR\n",
      "E0000 00:00:1752619713.849180 3781797 cuda_dnn.cc:8579] Unable to register cuDNN factory: Attempting to register factory for plugin cuDNN when one has already been registered\n",
      "E0000 00:00:1752619713.872135 3781797 cuda_blas.cc:1407] Unable to register cuBLAS factory: Attempting to register factory for plugin cuBLAS when one has already been registered\n",
      "W0000 00:00:1752619714.028869 3781797 computation_placer.cc:177] computation placer already registered. Please check linkage and avoid linking the same target more than once.\n",
      "W0000 00:00:1752619714.028932 3781797 computation_placer.cc:177] computation placer already registered. Please check linkage and avoid linking the same target more than once.\n",
      "W0000 00:00:1752619714.028934 3781797 computation_placer.cc:177] computation placer already registered. Please check linkage and avoid linking the same target more than once.\n",
      "W0000 00:00:1752619714.028955 3781797 computation_placer.cc:177] computation placer already registered. Please check linkage and avoid linking the same target more than once.\n",
      "2025-07-16 01:48:34.047200: I tensorflow/core/platform/cpu_feature_guard.cc:210] This TensorFlow binary is optimized to use available CPU instructions in performance-critical operations.\n",
      "To enable the following instructions: AVX2 FMA, in other operations, rebuild TensorFlow with the appropriate compiler flags.\n"
     ]
    }
   ],
   "source": [
    "import torch\n",
    "import numpy as np\n",
    "import pandas as pd\n",
    "from sklearn.preprocessing import StandardScaler\n",
    "from sklearn.decomposition import PCA\n",
    "from rdkit import Chem\n",
    "from rdkit.Chem import Descriptors, QED, Lipinski, AllChem\n",
    "from rdkit.ML.Descriptors import MoleculeDescriptors\n",
    "from rdkit.Chem.FilterCatalog import FilterCatalog, FilterCatalogParams\n",
    "from rdkit.Chem import rdMolDescriptors\n",
    "\n",
    "\n",
    "import torch\n",
    "import torch.nn as nn\n",
    "import torch.optim as optim\n",
    "from torch.utils.data import DataLoader, TensorDataset\n",
    "from transformers import GPT2LMHeadModel, GPT2Tokenizer, set_seed\n",
    "from tqdm import tqdm\n",
    "#import selfies as sf\n",
    "\n",
    "from sklearn.feature_selection import VarianceThreshold\n",
    "from sklearn.decomposition import PCA\n",
    "from sklearn.preprocessing import StandardScaler\n",
    "\n",
    "import joblib\n",
    "\n",
    "import os\n",
    "\n",
    "import warnings\n",
    "warnings.filterwarnings('ignore')"
   ]
  },
  {
   "cell_type": "markdown",
   "id": "f077226b",
   "metadata": {},
   "source": [
    "## Ключевые характеристики"
   ]
  },
  {
   "cell_type": "code",
   "execution_count": 2,
   "id": "2edbc8ef",
   "metadata": {},
   "outputs": [],
   "source": [
    "def is_valid_smiles(smiles):\n",
    "    if pd.isna(smiles):\n",
    "        return False\n",
    "    mol = Chem.MolFromSmiles(smiles)\n",
    "    return mol is not None"
   ]
  },
  {
   "cell_type": "code",
   "execution_count": 3,
   "id": "82201da1",
   "metadata": {},
   "outputs": [],
   "source": [
    "def calculate_sa_score(mol):\n",
    "    fp = rdMolDescriptors.GetMorganFingerprint(mol, radius=2)\n",
    "    fps = fp.GetNonzeroElements()\n",
    "    fragment_score = sum(fps.values()) / 100\n",
    "    \n",
    "    stereo_centers = len(Chem.FindPotentialStereo(mol))\n",
    "    stereo_penalty = stereo_centers * 0.5\n",
    "        \n",
    "    ri = mol.GetRingInfo()\n",
    "    macrocycle_penalty = 0\n",
    "    for ring in ri.AtomRings():\n",
    "        if len(ring) > 8:\n",
    "            macrocycle_penalty += 0.5\n",
    "        \n",
    "    sa_score = fragment_score + stereo_penalty + macrocycle_penalty\n",
    "        \n",
    "    sa_score = max(1, min(10, sa_score))\n",
    "        \n",
    "    return round(sa_score, 2)\n",
    "\n",
    "def count_lipinski_violations(mol):\n",
    "    violations = 0\n",
    "    violations += 1 if Descriptors.MolWt(mol) > 500 else 0\n",
    "    violations += 1 if Descriptors.MolLogP(mol) > 5 else 0\n",
    "    violations += 1 if Lipinski.NumHDonors(mol) > 5 else 0\n",
    "    violations += 1 if Lipinski.NumHAcceptors(mol) > 10 else 0\n",
    "    return violations\n",
    "\n",
    "def has_toxicophore(mol, tox_filter):\n",
    "    return tox_filter.HasMatch(mol)\n",
    "\n",
    "def setup_tox_filter():\n",
    "    params = FilterCatalogParams()\n",
    "    params.AddCatalog(FilterCatalogParams.FilterCatalogs.BRENK)\n",
    "    return FilterCatalog(params)"
   ]
  },
  {
   "cell_type": "code",
   "execution_count": 4,
   "id": "c50e0a45",
   "metadata": {},
   "outputs": [],
   "source": [
    "def calculate_molecule_properties(smiles, tox_filter):\n",
    "    mol = Chem.MolFromSmiles(smiles)\n",
    "    if not mol:\n",
    "        return None\n",
    "        \n",
    "    return {\n",
    "        \"SMILES\": smiles,\n",
    "        \"qed\": QED.qed(mol),\n",
    "        \"sa_score\": calculate_sa_score(mol),\n",
    "        \"lipinski_violations\": count_lipinski_violations(mol),\n",
    "        \"toxicophore\": has_toxicophore(mol, tox_filter)\n",
    "    }\n",
    "\n",
    "def meets_selection_criteria(props):\n",
    "    return (0.5 <= props['qed'] <= 1.0 and\n",
    "            2 < props['sa_score'] < 6 and\n",
    "            props['lipinski_violations'] <= 1 and\n",
    "            not props['toxicophore'])\n",
    "\n",
    "def filter_molecules(smiles_list):\n",
    "    tox_filter = setup_tox_filter()\n",
    "    results = []\n",
    "    \n",
    "    for smi in tqdm(smiles_list, desc=\"Filtering molecules\"):\n",
    "        props = calculate_molecule_properties(smi, tox_filter)\n",
    "        if props and meets_selection_criteria(props):\n",
    "            results.append(props)\n",
    "    \n",
    "    return pd.DataFrame(results)"
   ]
  },
  {
   "cell_type": "code",
   "execution_count": 5,
   "id": "02510db8",
   "metadata": {},
   "outputs": [],
   "source": [
    "def calculate_bbb_permeability(smiles):\n",
    "    \"\"\"Расчет вероятности прохождения через ГЭБ по SMILES\"\"\"\n",
    "    mol = Chem.MolFromSmiles(smiles)\n",
    "    if not mol:\n",
    "        return None\n",
    "    \n",
    "    # Основные дескрипторы, влияющие на прохождение через ГЭБ\n",
    "    mw = Descriptors.MolWt(mol)  # Молекулярный вес\n",
    "    logp = Descriptors.MolLogP(mol)  # LogP\n",
    "    hbd = Descriptors.NumHDonors(mol)  # Доноры водородных связей\n",
    "    hba = Descriptors.NumHAcceptors(mol)  # Акцепторы водородных связей\n",
    "    psa = Descriptors.TPSA(mol)  # Полярная площадь поверхности\n",
    "    \n",
    "    # Эмпирические правила для ГЭБ\n",
    "    # 1. Правило Липинского (адаптированное для ГЭБ)\n",
    "    rule_of_five = (mw <= 500 and logp <= 5 and hbd <= 5 and hba <= 10)\n",
    "    \n",
    "    # 2. Дополнительные критерии\n",
    "    bbb_rule = (mw <= 450 and logp > -1 and logp < 5 and \n",
    "                psa < 90 and hbd <= 3)\n",
    "    \n",
    "    return {\n",
    "        'MW': mw,\n",
    "        'LogP': logp,\n",
    "        'HBD': hbd,\n",
    "        'HBA': hba,\n",
    "        'TPSA': psa,\n",
    "        'BBB_permeable': bbb_rule,\n",
    "        'Rule_of_Five': rule_of_five\n",
    "    }"
   ]
  },
  {
   "cell_type": "markdown",
   "id": "c60a2121",
   "metadata": {},
   "source": [
    "## Загрузка данных\n",
    "\n",
    "Данные берутся из запусков генерации различных конфигураций MolHF"
   ]
  },
  {
   "cell_type": "code",
   "execution_count": 6,
   "id": "20c94796",
   "metadata": {},
   "outputs": [],
   "source": [
    "path = 'data//MolHF_results/'"
   ]
  },
  {
   "cell_type": "code",
   "execution_count": 7,
   "id": "6506fc0c",
   "metadata": {},
   "outputs": [],
   "source": [
    "def read_txt_files_to_dataframe(directory):\n",
    "    df = pd.DataFrame(columns=['smiles', 'value'])\n",
    "    \n",
    "    for root, _, files in os.walk(directory):\n",
    "        for filename in files:\n",
    "            if filename.endswith('.txt'):\n",
    "                filepath = os.path.join(root, filename)\n",
    "                \n",
    "                with open(filepath, 'r') as file:\n",
    "                    for line in file:\n",
    "                        line = line.strip()\n",
    "                        if line:\n",
    "                            parts = line.split(',')\n",
    "                            smiles = parts[0].strip()\n",
    "                            \n",
    "                            value = int(parts[1].strip()) if len(parts) > 1 else None\n",
    "                            \n",
    "                            df.loc[len(df)] = [smiles, value]\n",
    "    \n",
    "    return df"
   ]
  },
  {
   "cell_type": "code",
   "execution_count": 8,
   "id": "5e58d791",
   "metadata": {},
   "outputs": [],
   "source": [
    "df = read_txt_files_to_dataframe(path)"
   ]
  },
  {
   "cell_type": "code",
   "execution_count": 9,
   "id": "226f3cf4",
   "metadata": {},
   "outputs": [],
   "source": [
    "df = df.drop_duplicates(subset=['smiles'])"
   ]
  },
  {
   "cell_type": "markdown",
   "id": "ee42691d",
   "metadata": {},
   "source": [
    "Сгенерировано всего 7465 молекул"
   ]
  },
  {
   "cell_type": "code",
   "execution_count": 10,
   "id": "da73413a",
   "metadata": {},
   "outputs": [
    {
     "data": {
      "text/plain": [
       "7465"
      ]
     },
     "execution_count": 10,
     "metadata": {},
     "output_type": "execute_result"
    }
   ],
   "source": [
    "len(df)"
   ]
  },
  {
   "cell_type": "code",
   "execution_count": 11,
   "id": "3b037baf",
   "metadata": {},
   "outputs": [],
   "source": [
    "df['is_valid'] = df['smiles'].apply(is_valid_smiles)"
   ]
  },
  {
   "cell_type": "markdown",
   "id": "d38e1e90",
   "metadata": {},
   "source": [
    "Невалидных молекул нет, что является положительной стороной MolHF"
   ]
  },
  {
   "cell_type": "code",
   "execution_count": 12,
   "id": "a878c256",
   "metadata": {},
   "outputs": [
    {
     "data": {
      "text/html": [
       "<div>\n",
       "<style scoped>\n",
       "    .dataframe tbody tr th:only-of-type {\n",
       "        vertical-align: middle;\n",
       "    }\n",
       "\n",
       "    .dataframe tbody tr th {\n",
       "        vertical-align: top;\n",
       "    }\n",
       "\n",
       "    .dataframe thead th {\n",
       "        text-align: right;\n",
       "    }\n",
       "</style>\n",
       "<table border=\"1\" class=\"dataframe\">\n",
       "  <thead>\n",
       "    <tr style=\"text-align: right;\">\n",
       "      <th></th>\n",
       "      <th>smiles</th>\n",
       "      <th>value</th>\n",
       "      <th>is_valid</th>\n",
       "    </tr>\n",
       "  </thead>\n",
       "  <tbody>\n",
       "  </tbody>\n",
       "</table>\n",
       "</div>"
      ],
      "text/plain": [
       "Empty DataFrame\n",
       "Columns: [smiles, value, is_valid]\n",
       "Index: []"
      ]
     },
     "execution_count": 12,
     "metadata": {},
     "output_type": "execute_result"
    }
   ],
   "source": [
    "df[~df['is_valid']]"
   ]
  },
  {
   "cell_type": "markdown",
   "id": "9faecc61",
   "metadata": {},
   "source": [
    "## Отбор по ключевым характеристикам"
   ]
  },
  {
   "cell_type": "code",
   "execution_count": 13,
   "id": "a134bb67",
   "metadata": {},
   "outputs": [],
   "source": [
    "def to_mol(smiles):\n",
    "    mol = Chem.MolFromSmiles(smiles)\n",
    "    if not mol:\n",
    "        return None\n",
    "    return mol"
   ]
  },
  {
   "cell_type": "code",
   "execution_count": 14,
   "id": "54fbf79c",
   "metadata": {},
   "outputs": [],
   "source": [
    "df['mol'] = df['smiles'].apply(to_mol)"
   ]
  },
  {
   "cell_type": "code",
   "execution_count": 15,
   "id": "ab5db8af",
   "metadata": {},
   "outputs": [],
   "source": [
    "df['qed'] = df['mol'].apply(QED.qed)"
   ]
  },
  {
   "cell_type": "code",
   "execution_count": 26,
   "id": "162d7aa8",
   "metadata": {},
   "outputs": [],
   "source": [
    "import warnings\n",
    "from rdkit import RDLogger\n",
    "\n",
    "RDLogger.DisableLog('rdApp.*')  \n"
   ]
  },
  {
   "cell_type": "code",
   "execution_count": 27,
   "id": "b681200f",
   "metadata": {},
   "outputs": [],
   "source": [
    "df['sa_score'] = df['mol'].apply(calculate_sa_score)"
   ]
  },
  {
   "cell_type": "code",
   "execution_count": 28,
   "id": "49465013",
   "metadata": {},
   "outputs": [],
   "source": [
    "df['lipinski_violations'] = df['mol'].apply(count_lipinski_violations)"
   ]
  },
  {
   "cell_type": "code",
   "execution_count": 29,
   "id": "d8566fda",
   "metadata": {},
   "outputs": [],
   "source": [
    "tox_filter = setup_tox_filter()"
   ]
  },
  {
   "cell_type": "code",
   "execution_count": 30,
   "id": "9c58cf09",
   "metadata": {},
   "outputs": [],
   "source": [
    "def tox_check(mol):\n",
    "    return has_toxicophore(mol, tox_filter)"
   ]
  },
  {
   "cell_type": "code",
   "execution_count": 31,
   "id": "bbe87e4d",
   "metadata": {},
   "outputs": [],
   "source": [
    "df['toxicophore'] = df['mol'].apply(tox_check)"
   ]
  },
  {
   "cell_type": "code",
   "execution_count": 32,
   "id": "02de56ac",
   "metadata": {},
   "outputs": [],
   "source": [
    "df['bbb_permeability'] = df['smiles'].apply(calculate_bbb_permeability)"
   ]
  },
  {
   "cell_type": "code",
   "execution_count": 33,
   "id": "e37891b1",
   "metadata": {},
   "outputs": [],
   "source": [
    "def is_bbb_permeable(params):\n",
    "    \n",
    "    return (\n",
    "        params['MW'] < 450 and\n",
    "        -1 <= params['LogP'] <= 5 and\n",
    "        params['HBD'] <= 3 and\n",
    "        params['HBA'] <= 8 and\n",
    "        params['TPSA'] < 90\n",
    "    )"
   ]
  },
  {
   "cell_type": "code",
   "execution_count": 34,
   "id": "4d4d3d7f",
   "metadata": {},
   "outputs": [],
   "source": [
    "df['BBB_permeable'] = df['bbb_permeability'].apply(is_bbb_permeable)"
   ]
  },
  {
   "cell_type": "code",
   "execution_count": 35,
   "id": "e866b4ed",
   "metadata": {},
   "outputs": [],
   "source": [
    "molecules = df[(df['qed'] >= 0.5) & (df['qed'] <= 1.0) & (~df['toxicophore']) & (df['sa_score'] > 2.0) & (df['sa_score'] < 6.0) & (df['lipinski_violations'] <= 1.0) & (df['BBB_permeable'])]"
   ]
  },
  {
   "cell_type": "code",
   "execution_count": 36,
   "id": "124d0816",
   "metadata": {},
   "outputs": [
    {
     "data": {
      "text/plain": [
       "209"
      ]
     },
     "execution_count": 36,
     "metadata": {},
     "output_type": "execute_result"
    }
   ],
   "source": [
    "len(molecules)"
   ]
  },
  {
   "cell_type": "code",
   "execution_count": 37,
   "id": "b8a1005d",
   "metadata": {},
   "outputs": [],
   "source": [
    "model = joblib.load('best_model.joblib')"
   ]
  },
  {
   "cell_type": "code",
   "execution_count": 38,
   "id": "f6b38513",
   "metadata": {},
   "outputs": [],
   "source": [
    "def calculate_descriptors(smiles_list):\n",
    "    desc_names = [d[0] for d in Descriptors._descList]\n",
    "    calc = MoleculeDescriptors.MolecularDescriptorCalculator(desc_names)\n",
    "    desc_data = []\n",
    "    for smiles in smiles_list:\n",
    "        mol = Chem.MolFromSmiles(smiles)\n",
    "        if mol is not None:\n",
    "            desc_data.append(calc.CalcDescriptors(mol))\n",
    "        else:\n",
    "            desc_data.append([np.nan] * len(desc_names))\n",
    "    df_desc = pd.DataFrame(desc_data, columns=desc_names)\n",
    "    df_desc = df_desc.rename(columns={'qed': 'qed_desc'})\n",
    "    return df_desc"
   ]
  },
  {
   "cell_type": "code",
   "execution_count": 39,
   "id": "f8281932",
   "metadata": {},
   "outputs": [],
   "source": [
    "def preprocess_data(df):\n",
    "    df_desc = calculate_descriptors(df['smiles'])\n",
    "    df_processed = df.reset_index(drop=True).join(df_desc)\n",
    "    \n",
    "    df_processed = df_processed.drop(columns=['pValue', 'MOL'], errors='ignore')\n",
    "    df_processed = df_processed.select_dtypes(include=[np.number])\n",
    "    \n",
    "    extreme = 1e6\n",
    "    df_processed = df_processed.loc[:, (np.isfinite(df_processed).all(axis=0)) & \n",
    "                                    (df_processed.abs() < extreme).all(axis=0)]\n",
    "    \n",
    "    selector = VarianceThreshold(threshold=0.01)\n",
    "    X_var = selector.fit_transform(df_processed)\n",
    "    selected_cols = df_processed.columns[selector.get_support()]\n",
    "    X_var = pd.DataFrame(X_var, columns=selected_cols, index=df_processed.index)\n",
    "    \n",
    "    corr = X_var.corr().abs()\n",
    "    upper = corr.where(np.triu(np.ones(corr.shape), k=1).astype(bool))\n",
    "    to_drop = [col for col in upper.columns if any(upper[col] > 0.95)]\n",
    "    X_uncorr = X_var.drop(columns=to_drop)\n",
    "    \n",
    "    scaler = StandardScaler()\n",
    "    X_scaled = scaler.fit_transform(X_uncorr)\n",
    "\n",
    "    pca = PCA(n_components=n_components)\n",
    "    pca_features = pca.fit_transform(X_scaled)\n",
    "    \n",
    "    return pca_features"
   ]
  },
  {
   "cell_type": "code",
   "execution_count": 40,
   "id": "bed51bd0",
   "metadata": {},
   "outputs": [],
   "source": [
    "scaler = joblib.load(\"preprocessors/scaler.joblib\")\n",
    "selector = joblib.load(\"preprocessors/variance_threshold.joblib\")\n",
    "pca = joblib.load(\"preprocessors/pca.joblib\")\n",
    "selected_cols = joblib.load(\"preprocessors/selected_cols.joblib\")\n",
    "uncorrelated_cols = joblib.load(\"preprocessors/uncorrelated_cols.joblib\")\n",
    "model = joblib.load(\"best_model.joblib\")"
   ]
  },
  {
   "cell_type": "code",
   "execution_count": 41,
   "id": "10dfb4c3",
   "metadata": {},
   "outputs": [],
   "source": [
    "n_components = 57"
   ]
  },
  {
   "cell_type": "code",
   "execution_count": 42,
   "id": "cb0acb07",
   "metadata": {},
   "outputs": [],
   "source": [
    "X_new_processed = preprocess_data(molecules)"
   ]
  },
  {
   "cell_type": "code",
   "execution_count": 43,
   "id": "5c65d320",
   "metadata": {},
   "outputs": [],
   "source": [
    "predictions = model.predict(X_new_processed)"
   ]
  },
  {
   "cell_type": "code",
   "execution_count": 44,
   "id": "f3fad8c1",
   "metadata": {},
   "outputs": [],
   "source": [
    "molecules['pValue'] = predictions"
   ]
  },
  {
   "cell_type": "code",
   "execution_count": 45,
   "id": "8b6dfd2d",
   "metadata": {},
   "outputs": [],
   "source": [
    "molecules = molecules[molecules['pValue'] >= 6]"
   ]
  },
  {
   "cell_type": "code",
   "execution_count": 46,
   "id": "cc93352e",
   "metadata": {},
   "outputs": [
    {
     "data": {
      "text/plain": [
       "81"
      ]
     },
     "execution_count": 46,
     "metadata": {},
     "output_type": "execute_result"
    }
   ],
   "source": [
    "len(molecules)"
   ]
  },
  {
   "cell_type": "markdown",
   "id": "42b2061e",
   "metadata": {},
   "source": [
    "После фильтрации по базовым критериям, ещё остаётся 81 молекула, поэтому можем сузить рамки"
   ]
  },
  {
   "cell_type": "code",
   "execution_count": 47,
   "id": "5f6a9e24",
   "metadata": {},
   "outputs": [],
   "source": [
    "molecules = molecules[molecules['pValue'] >= 6.5]"
   ]
  },
  {
   "cell_type": "code",
   "execution_count": 48,
   "id": "92f7d16e",
   "metadata": {},
   "outputs": [],
   "source": [
    "molecules = molecules[molecules['qed'] >= 0.65]"
   ]
  },
  {
   "cell_type": "code",
   "execution_count": 49,
   "id": "0c040a5f",
   "metadata": {},
   "outputs": [],
   "source": [
    "molecules = molecules[molecules['lipinski_violations'] == 0]"
   ]
  },
  {
   "cell_type": "code",
   "execution_count": 50,
   "id": "a36de0d2",
   "metadata": {},
   "outputs": [],
   "source": [
    "molecules = molecules.drop(columns=['value', 'mol']).sort_values('pValue', ascending=False)"
   ]
  },
  {
   "cell_type": "code",
   "execution_count": 51,
   "id": "09f9c2ed",
   "metadata": {},
   "outputs": [
    {
     "data": {
      "text/plain": [
       "6"
      ]
     },
     "execution_count": 51,
     "metadata": {},
     "output_type": "execute_result"
    }
   ],
   "source": [
    "len(molecules)"
   ]
  },
  {
   "cell_type": "code",
   "execution_count": 52,
   "id": "b9726b39",
   "metadata": {},
   "outputs": [
    {
     "data": {
      "text/html": [
       "<div>\n",
       "<style scoped>\n",
       "    .dataframe tbody tr th:only-of-type {\n",
       "        vertical-align: middle;\n",
       "    }\n",
       "\n",
       "    .dataframe tbody tr th {\n",
       "        vertical-align: top;\n",
       "    }\n",
       "\n",
       "    .dataframe thead th {\n",
       "        text-align: right;\n",
       "    }\n",
       "</style>\n",
       "<table border=\"1\" class=\"dataframe\">\n",
       "  <thead>\n",
       "    <tr style=\"text-align: right;\">\n",
       "      <th></th>\n",
       "      <th>smiles</th>\n",
       "      <th>is_valid</th>\n",
       "      <th>qed</th>\n",
       "      <th>sa_score</th>\n",
       "      <th>lipinski_violations</th>\n",
       "      <th>toxicophore</th>\n",
       "      <th>bbb_permeability</th>\n",
       "      <th>BBB_permeable</th>\n",
       "      <th>pValue</th>\n",
       "    </tr>\n",
       "  </thead>\n",
       "  <tbody>\n",
       "    <tr>\n",
       "      <th>5788</th>\n",
       "      <td>CCC1CC2CCC(C)N2C(C)CN1</td>\n",
       "      <td>True</td>\n",
       "      <td>0.689852</td>\n",
       "      <td>2.39</td>\n",
       "      <td>0</td>\n",
       "      <td>False</td>\n",
       "      <td>{'MW': 196.338, 'LogP': 1.9997, 'HBD': 1, 'HBA...</td>\n",
       "      <td>True</td>\n",
       "      <td>6.750423</td>\n",
       "    </tr>\n",
       "    <tr>\n",
       "      <th>13744</th>\n",
       "      <td>CCCC1C2=C3CCC14C3NC4(CN)C(N)C=N2</td>\n",
       "      <td>True</td>\n",
       "      <td>0.679706</td>\n",
       "      <td>3.01</td>\n",
       "      <td>0</td>\n",
       "      <td>False</td>\n",
       "      <td>{'MW': 246.358, 'LogP': 0.5316000000000012, 'H...</td>\n",
       "      <td>True</td>\n",
       "      <td>6.653001</td>\n",
       "    </tr>\n",
       "    <tr>\n",
       "      <th>2088</th>\n",
       "      <td>CC1CC(CO)C2(C)C3NN4C13C1CC(C)C142</td>\n",
       "      <td>True</td>\n",
       "      <td>0.710064</td>\n",
       "      <td>4.97</td>\n",
       "      <td>0</td>\n",
       "      <td>False</td>\n",
       "      <td>{'MW': 234.343, 'LogP': 0.9905999999999999, 'H...</td>\n",
       "      <td>True</td>\n",
       "      <td>6.604956</td>\n",
       "    </tr>\n",
       "    <tr>\n",
       "      <th>14772</th>\n",
       "      <td>CNC1C2=C3N1C1(N)CN(C)C2(CN)CC(C)(C)S31C</td>\n",
       "      <td>True</td>\n",
       "      <td>0.666312</td>\n",
       "      <td>2.53</td>\n",
       "      <td>0</td>\n",
       "      <td>False</td>\n",
       "      <td>{'MW': 297.472, 'LogP': -0.055199999999998584,...</td>\n",
       "      <td>True</td>\n",
       "      <td>6.592586</td>\n",
       "    </tr>\n",
       "    <tr>\n",
       "      <th>5774</th>\n",
       "      <td>CNC1C(C)CC2C3CCC2C1C3</td>\n",
       "      <td>True</td>\n",
       "      <td>0.650917</td>\n",
       "      <td>3.37</td>\n",
       "      <td>0</td>\n",
       "      <td>False</td>\n",
       "      <td>{'MW': 179.307, 'LogP': 2.2765000000000004, 'H...</td>\n",
       "      <td>True</td>\n",
       "      <td>6.530498</td>\n",
       "    </tr>\n",
       "  </tbody>\n",
       "</table>\n",
       "</div>"
      ],
      "text/plain": [
       "                                        smiles  is_valid       qed  sa_score  \\\n",
       "5788                    CCC1CC2CCC(C)N2C(C)CN1      True  0.689852      2.39   \n",
       "13744         CCCC1C2=C3CCC14C3NC4(CN)C(N)C=N2      True  0.679706      3.01   \n",
       "2088         CC1CC(CO)C2(C)C3NN4C13C1CC(C)C142      True  0.710064      4.97   \n",
       "14772  CNC1C2=C3N1C1(N)CN(C)C2(CN)CC(C)(C)S31C      True  0.666312      2.53   \n",
       "5774                     CNC1C(C)CC2C3CCC2C1C3      True  0.650917      3.37   \n",
       "\n",
       "       lipinski_violations  toxicophore  \\\n",
       "5788                     0        False   \n",
       "13744                    0        False   \n",
       "2088                     0        False   \n",
       "14772                    0        False   \n",
       "5774                     0        False   \n",
       "\n",
       "                                        bbb_permeability  BBB_permeable  \\\n",
       "5788   {'MW': 196.338, 'LogP': 1.9997, 'HBD': 1, 'HBA...           True   \n",
       "13744  {'MW': 246.358, 'LogP': 0.5316000000000012, 'H...           True   \n",
       "2088   {'MW': 234.343, 'LogP': 0.9905999999999999, 'H...           True   \n",
       "14772  {'MW': 297.472, 'LogP': -0.055199999999998584,...           True   \n",
       "5774   {'MW': 179.307, 'LogP': 2.2765000000000004, 'H...           True   \n",
       "\n",
       "         pValue  \n",
       "5788   6.750423  \n",
       "13744  6.653001  \n",
       "2088   6.604956  \n",
       "14772  6.592586  \n",
       "5774   6.530498  "
      ]
     },
     "execution_count": 52,
     "metadata": {},
     "output_type": "execute_result"
    }
   ],
   "source": [
    "molecules.head()"
   ]
  },
  {
   "cell_type": "markdown",
   "id": "d211d03d",
   "metadata": {},
   "source": [
    "Сохраняем молекулы для дальнейшего докинга"
   ]
  },
  {
   "cell_type": "code",
   "execution_count": 53,
   "id": "ec068dfb",
   "metadata": {},
   "outputs": [],
   "source": [
    "molecules.to_csv('molecules_filtered_for_docking.csv', index=False)"
   ]
  },
  {
   "cell_type": "code",
   "execution_count": 54,
   "id": "e8477d27",
   "metadata": {},
   "outputs": [],
   "source": [
    "molecules = molecules[molecules['qed'] >= 0.7]"
   ]
  },
  {
   "cell_type": "code",
   "execution_count": 55,
   "id": "7b04182f",
   "metadata": {},
   "outputs": [
    {
     "data": {
      "text/html": [
       "<div>\n",
       "<style scoped>\n",
       "    .dataframe tbody tr th:only-of-type {\n",
       "        vertical-align: middle;\n",
       "    }\n",
       "\n",
       "    .dataframe tbody tr th {\n",
       "        vertical-align: top;\n",
       "    }\n",
       "\n",
       "    .dataframe thead th {\n",
       "        text-align: right;\n",
       "    }\n",
       "</style>\n",
       "<table border=\"1\" class=\"dataframe\">\n",
       "  <thead>\n",
       "    <tr style=\"text-align: right;\">\n",
       "      <th></th>\n",
       "      <th>smiles</th>\n",
       "      <th>is_valid</th>\n",
       "      <th>qed</th>\n",
       "      <th>sa_score</th>\n",
       "      <th>lipinski_violations</th>\n",
       "      <th>toxicophore</th>\n",
       "      <th>bbb_permeability</th>\n",
       "      <th>BBB_permeable</th>\n",
       "      <th>pValue</th>\n",
       "    </tr>\n",
       "  </thead>\n",
       "  <tbody>\n",
       "    <tr>\n",
       "      <th>2088</th>\n",
       "      <td>CC1CC(CO)C2(C)C3NN4C13C1CC(C)C142</td>\n",
       "      <td>True</td>\n",
       "      <td>0.710064</td>\n",
       "      <td>4.97</td>\n",
       "      <td>0</td>\n",
       "      <td>False</td>\n",
       "      <td>{'MW': 234.343, 'LogP': 0.9905999999999999, 'H...</td>\n",
       "      <td>True</td>\n",
       "      <td>6.604956</td>\n",
       "    </tr>\n",
       "    <tr>\n",
       "      <th>1603</th>\n",
       "      <td>CCC1N2CNN(C(OC)C2)C2CC(C)CN12</td>\n",
       "      <td>True</td>\n",
       "      <td>0.757497</td>\n",
       "      <td>3.48</td>\n",
       "      <td>0</td>\n",
       "      <td>False</td>\n",
       "      <td>{'MW': 240.35099999999997, 'LogP': 0.456200000...</td>\n",
       "      <td>True</td>\n",
       "      <td>6.518321</td>\n",
       "    </tr>\n",
       "  </tbody>\n",
       "</table>\n",
       "</div>"
      ],
      "text/plain": [
       "                                 smiles  is_valid       qed  sa_score  \\\n",
       "2088  CC1CC(CO)C2(C)C3NN4C13C1CC(C)C142      True  0.710064      4.97   \n",
       "1603      CCC1N2CNN(C(OC)C2)C2CC(C)CN12      True  0.757497      3.48   \n",
       "\n",
       "      lipinski_violations  toxicophore  \\\n",
       "2088                    0        False   \n",
       "1603                    0        False   \n",
       "\n",
       "                                       bbb_permeability  BBB_permeable  \\\n",
       "2088  {'MW': 234.343, 'LogP': 0.9905999999999999, 'H...           True   \n",
       "1603  {'MW': 240.35099999999997, 'LogP': 0.456200000...           True   \n",
       "\n",
       "        pValue  \n",
       "2088  6.604956  \n",
       "1603  6.518321  "
      ]
     },
     "execution_count": 55,
     "metadata": {},
     "output_type": "execute_result"
    }
   ],
   "source": [
    "molecules"
   ]
  },
  {
   "cell_type": "markdown",
   "id": "ea975abe",
   "metadata": {},
   "source": [
    "Отдельно сохраняем топ-2 молекулы по узким критериям"
   ]
  },
  {
   "cell_type": "code",
   "execution_count": 56,
   "id": "aaefd7a3",
   "metadata": {},
   "outputs": [],
   "source": [
    "molecules.to_csv('molecules_filtered_top.csv', index=False)"
   ]
  }
 ],
 "metadata": {
  "kernelspec": {
   "display_name": "Python 3",
   "language": "python",
   "name": "python3"
  },
  "language_info": {
   "codemirror_mode": {
    "name": "ipython",
    "version": 3
   },
   "file_extension": ".py",
   "mimetype": "text/x-python",
   "name": "python",
   "nbconvert_exporter": "python",
   "pygments_lexer": "ipython3",
   "version": "3.10.12"
  }
 },
 "nbformat": 4,
 "nbformat_minor": 5
}
