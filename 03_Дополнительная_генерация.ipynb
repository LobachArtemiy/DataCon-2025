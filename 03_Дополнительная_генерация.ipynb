{
 "cells": [
  {
   "cell_type": "markdown",
   "id": "3a46af68",
   "metadata": {},
   "source": [
    "## Приведён пример генерации, для сравнения с основным методом"
   ]
  },
  {
   "cell_type": "code",
   "execution_count": 1,
   "id": "352666d5",
   "metadata": {},
   "outputs": [
    {
     "name": "stderr",
     "output_type": "stream",
     "text": [
      "<frozen importlib._bootstrap>:241: RuntimeWarning: to-Python converter for boost::shared_ptr<RDKit::FilterHierarchyMatcher> already registered; second conversion method ignored.\n",
      "/home/elizaveta/.local/lib/python3.10/site-packages/tqdm/auto.py:21: TqdmWarning: IProgress not found. Please update jupyter and ipywidgets. See https://ipywidgets.readthedocs.io/en/stable/user_install.html\n",
      "  from .autonotebook import tqdm as notebook_tqdm\n",
      "2025-07-15 23:28:56.859991: E external/local_xla/xla/stream_executor/cuda/cuda_fft.cc:467] Unable to register cuFFT factory: Attempting to register factory for plugin cuFFT when one has already been registered\n",
      "WARNING: All log messages before absl::InitializeLog() is called are written to STDERR\n",
      "E0000 00:00:1752611336.924619 3753792 cuda_dnn.cc:8579] Unable to register cuDNN factory: Attempting to register factory for plugin cuDNN when one has already been registered\n",
      "E0000 00:00:1752611336.943927 3753792 cuda_blas.cc:1407] Unable to register cuBLAS factory: Attempting to register factory for plugin cuBLAS when one has already been registered\n",
      "W0000 00:00:1752611337.073408 3753792 computation_placer.cc:177] computation placer already registered. Please check linkage and avoid linking the same target more than once.\n",
      "W0000 00:00:1752611337.073447 3753792 computation_placer.cc:177] computation placer already registered. Please check linkage and avoid linking the same target more than once.\n",
      "W0000 00:00:1752611337.073450 3753792 computation_placer.cc:177] computation placer already registered. Please check linkage and avoid linking the same target more than once.\n",
      "W0000 00:00:1752611337.073453 3753792 computation_placer.cc:177] computation placer already registered. Please check linkage and avoid linking the same target more than once.\n",
      "2025-07-15 23:28:57.089891: I tensorflow/core/platform/cpu_feature_guard.cc:210] This TensorFlow binary is optimized to use available CPU instructions in performance-critical operations.\n",
      "To enable the following instructions: AVX2 FMA, in other operations, rebuild TensorFlow with the appropriate compiler flags.\n"
     ]
    }
   ],
   "source": [
    "import torch\n",
    "import numpy as np\n",
    "import pandas as pd\n",
    "from sklearn.preprocessing import StandardScaler\n",
    "from sklearn.decomposition import PCA\n",
    "from rdkit import Chem\n",
    "from rdkit.Chem import Descriptors, QED, Lipinski, AllChem\n",
    "from rdkit.ML.Descriptors import MoleculeDescriptors\n",
    "from rdkit.Chem.FilterCatalog import FilterCatalog, FilterCatalogParams\n",
    "from rdkit.Chem import rdMolDescriptors\n",
    "\n",
    "import torch\n",
    "import torch.nn as nn\n",
    "import torch.optim as optim\n",
    "from torch.utils.data import DataLoader, TensorDataset\n",
    "from transformers import GPT2LMHeadModel, GPT2Tokenizer, set_seed\n",
    "from tqdm import tqdm\n",
    "#import selfies as sf\n",
    "\n",
    "import warnings\n",
    "warnings.filterwarnings('ignore')"
   ]
  },
  {
   "cell_type": "markdown",
   "id": "8a41515f",
   "metadata": {},
   "source": [
    "### Генерация молекул (DrugGPT)"
   ]
  },
  {
   "cell_type": "code",
   "execution_count": 2,
   "id": "b80525c4",
   "metadata": {},
   "outputs": [],
   "source": [
    "from transformers import GPT2LMHeadModel, PreTrainedTokenizerFast\n",
    "\n",
    "tokenizer_path = \"tokenizer.json\"\n",
    "tokenizer = PreTrainedTokenizerFast(tokenizer_file=tokenizer_path)\n",
    "tokenizer.pad_token = \"<pad>\"\n",
    "tokenizer.bos_token = \"<bos>\"\n",
    "tokenizer.eos_token = \"<eos>\""
   ]
  },
  {
   "cell_type": "code",
   "execution_count": 3,
   "id": "1265762b",
   "metadata": {},
   "outputs": [],
   "source": [
    "from transformers import GPT2LMHeadModel\n",
    "model = GPT2LMHeadModel.from_pretrained(\"jonghyunlee/MolGPT_pretrained-by-ZINC15\")"
   ]
  },
  {
   "cell_type": "code",
   "execution_count": 4,
   "id": "d821ebf2",
   "metadata": {},
   "outputs": [],
   "source": [
    "def generate_smiles(model, tokenizer, num_sequences=1000, temperature=1.0, seed=42):\n",
    "    set_seed(seed)\n",
    "    torch.manual_seed(seed)\n",
    "    \n",
    "    outputs = model.generate(\n",
    "        max_length=128,\n",
    "        num_return_sequences=num_sequences,\n",
    "        pad_token_id=tokenizer.pad_token_id,\n",
    "        bos_token_id=tokenizer.bos_token_id,\n",
    "        eos_token_id=tokenizer.eos_token_id,\n",
    "        do_sample=True,\n",
    "        temperature=temperature,\n",
    "        return_dict_in_generate=True\n",
    "    )\n",
    "    \n",
    "    smiles_list = []\n",
    "    for seq in outputs.sequences:\n",
    "        smile = tokenizer.decode(seq, skip_special_tokens=True)\n",
    "        if smile and smile.count('C') > 0:\n",
    "            smiles_list.append(smile)\n",
    "    \n",
    "    return smiles_list"
   ]
  },
  {
   "cell_type": "code",
   "execution_count": 5,
   "id": "175f04e5",
   "metadata": {},
   "outputs": [],
   "source": [
    "generated_smiles = generate_smiles(model, tokenizer, num_sequences=1000, temperature=0.7, seed=42)"
   ]
  },
  {
   "cell_type": "code",
   "execution_count": 6,
   "id": "2abca4ea",
   "metadata": {},
   "outputs": [
    {
     "data": {
      "text/plain": [
       "1000"
      ]
     },
     "execution_count": 6,
     "metadata": {},
     "output_type": "execute_result"
    }
   ],
   "source": [
    "generated_smiles = pd.DataFrame(generated_smiles, columns=['Smiles'])\n",
    "generated_smiles.shape[0]"
   ]
  },
  {
   "cell_type": "markdown",
   "id": "d75b149c",
   "metadata": {},
   "source": [
    "### Проверка сгенерированных SMILES на валидность"
   ]
  },
  {
   "cell_type": "code",
   "execution_count": 7,
   "id": "11aa50e5",
   "metadata": {},
   "outputs": [],
   "source": [
    "def is_valid_smiles(smiles):\n",
    "    if pd.isna(smiles):\n",
    "        return False\n",
    "    mol = Chem.MolFromSmiles(smiles)\n",
    "    return mol is not None"
   ]
  },
  {
   "cell_type": "code",
   "execution_count": 8,
   "id": "9c59ad8e",
   "metadata": {},
   "outputs": [
    {
     "data": {
      "text/plain": [
       "0"
      ]
     },
     "execution_count": 8,
     "metadata": {},
     "output_type": "execute_result"
    }
   ],
   "source": [
    "generated_smiles['is_valid'] = generated_smiles['Smiles'].apply(is_valid_smiles)\n",
    "generated_smiles[~generated_smiles['is_valid']].shape[0]"
   ]
  },
  {
   "cell_type": "markdown",
   "id": "de645d95",
   "metadata": {},
   "source": [
    "Как видно, проблемой MolGPT является невалидность молекул"
   ]
  }
 ],
 "metadata": {
  "kernelspec": {
   "display_name": "Python 3",
   "language": "python",
   "name": "python3"
  },
  "language_info": {
   "codemirror_mode": {
    "name": "ipython",
    "version": 3
   },
   "file_extension": ".py",
   "mimetype": "text/x-python",
   "name": "python",
   "nbconvert_exporter": "python",
   "pygments_lexer": "ipython3",
   "version": "3.10.12"
  }
 },
 "nbformat": 4,
 "nbformat_minor": 5
}
